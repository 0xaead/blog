1. Indexing a `bytes` returns an integer range 0-255, but slicing a `bytes` returns a `bytes` object similar to slicing for a `str`.

2. `string` is not `str`, though looks so familiar to each other.

3. truthy is a little trickier than faulsy, since any object, even if it is an empty object without any attributes, is "treated" as true.
>>> class cc():
...     pass
>>> co = cc()
>>> if co:
>>>    print("co is true!")
co is true!
-- Only empty collections are treated as falsy.
4. using raw string can save your time to double slash or backslash of a path. But beware!, the backslash in equivalant `str` also escape enclousure string quote in a raw string.
So r"\path\to\mydir\" is not a valid raw string, e.g.
>>> r"\path\to\mydir\"
  File "<stdin>", line 1
    r"\path\to\mydir\"
                     ^
SyntaxError: EOL while scanning string literal
you would need r"\path\to\mydir\\" instead!
5. You can unpack a list to a function argument list, func(*mylist). Also unpacking a dictionary with ** is possible, too. Here arguments are named with its key.
6. You can use `*` to mark the end of positional parameter, and also `\` to mark the start of named parameter. Which you can save the effort to type those named parameters when they have default value.
7. Use '," alternatively so you can have more quoted content without using `\` to escape, which is painful sometimes.
8. 
